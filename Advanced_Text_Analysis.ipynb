{
 "cells": [
  {
   "cell_type": "markdown",
   "metadata": {},
   "source": [
    "![DSL_logo](dsl_logo.png)\n",
    "\n",
    "\n",
    "# Advanced Text Analysis with Python\n",
    "\n",
    "Welcome to the Digital Scholarship Lab introduction to Text Analysis with Python class. In this class we'll learn the basics of text analysis:\n",
    "\n",
    "- Topic Modeling\n",
    "- Text Similarity\n",
    "\n",
    "\n",
    "This workshop assumes you've completed our Introduction to Text Analysis [workshop](https://brockdsl.github.io/Text_Analysis_with_Python/)\n",
    "\n",
    "It would be useful to consult our Introduction to Python \n",
    "\n",
    "\n",
    "We'll use the Zoom's chat feature to interact.\n",
    "\n",
    "Be sure to enable line numbers by looking for the 'gear' icon and checking the box in the 'Editor' panel."
   ]
  }
 ],
 "metadata": {
  "kernelspec": {
   "display_name": "Python 3",
   "language": "python",
   "name": "python3"
  },
  "language_info": {
   "codemirror_mode": {
    "name": "ipython",
    "version": 3
   },
   "file_extension": ".py",
   "mimetype": "text/x-python",
   "name": "python",
   "nbconvert_exporter": "python",
   "pygments_lexer": "ipython3",
   "version": "3.7.4"
  }
 },
 "nbformat": 4,
 "nbformat_minor": 2
}
